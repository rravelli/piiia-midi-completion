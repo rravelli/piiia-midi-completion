{
 "cells": [
  {
   "cell_type": "code",
   "execution_count": 5,
   "id": "25586c4d-78e0-42ff-b3c5-00e21101cf56",
   "metadata": {
    "tags": []
   },
   "outputs": [],
   "source": [
    "import pretty_midi\n",
    "import matplotlib.pyplot as plt\n",
    "import numpy as np\n",
    "import os\n",
    "import seaborn as sns"
   ]
  },
  {
   "cell_type": "markdown",
   "id": "030d8291",
   "metadata": {},
   "source": [
    "# Notebook to test your MIDI generations"
   ]
  },
  {
   "cell_type": "markdown",
   "id": "07113bc8",
   "metadata": {},
   "source": [
    "First, change the following paths to the MIDI you would like to check"
   ]
  },
  {
   "cell_type": "code",
   "execution_count": 2,
   "id": "c97a4356",
   "metadata": {
    "tags": []
   },
   "outputs": [],
   "source": [
    "path_to_input = 'path_to_input/input.mid'\n",
    "path_to_output = 'path_to_output/output.mid'"
   ]
  },
  {
   "cell_type": "markdown",
   "id": "90291a2e",
   "metadata": {},
   "source": [
    "## Krumhansl Ratings "
   ]
  },
  {
   "cell_type": "code",
   "execution_count": 37,
   "id": "29ca1c70-d00c-45e5-971c-9fd9b4aea65a",
   "metadata": {
    "tags": []
   },
   "outputs": [
    {
     "data": {
      "image/png": "[encoded data removed]",
      "text/plain": [
       "<Figure size 640x480 with 1 Axes>"
      ]
     },
     "metadata": {},
     "output_type": "display_data"
    }
   ],
   "source": [
    "ratings_major = [6.35, 2.23, 3.48, 2.33, 4.38, 4.09, 2.52, 5.19, 2.39, 3.66, 2.29, 2.88]\n",
    "plt.bar(range(12), ratings_major)\n",
    "plt.xticks([0, 2, 4, 5, 7, 9, 11])\n",
    "plt.gca().set_xticklabels([\"C\", \"D\", \"E\", \"F\", \"G\", \"A\", \"B\"])\n",
    "plt.ylim(0, 7)\n",
    "plt.title(\"Krumhansl ratings for C major\")\n",
    "plt.show()"
   ]
  },
  {
   "cell_type": "code",
   "execution_count": 38,
   "id": "2b961692-b6e0-4582-b830-7ee08b1a9054",
   "metadata": {
    "tags": []
   },
   "outputs": [
    {
     "data": {
      "image/png": "[encoded data removed]",
      "text/plain": [
       "<Figure size 640x480 with 1 Axes>"
      ]
     },
     "metadata": {},
     "output_type": "display_data"
    }
   ],
   "source": [
    "ratings_minor = [6.33, 2.68, 3.52, 5.38, 2.60, 3.53, 2.54, 4.75, 3.98, 2.69, 3.34, 3.17]\n",
    "plt.bar(range(12), ratings_minor)\n",
    "plt.xticks([0, 2, 4, 5, 7, 9, 11])\n",
    "plt.gca().set_xticklabels([\"C\", \"D\", \"E\", \"F\", \"G\", \"A\", \"B\"])\n",
    "plt.ylim(0, 7)\n",
    "plt.title(\"Krumhansl ratings for C minor\")\n",
    "plt.show()"
   ]
  },
  {
   "cell_type": "markdown",
   "id": "ab5e7477",
   "metadata": {},
   "source": [
    "## Functions used"
   ]
  },
  {
   "cell_type": "code",
   "execution_count": 25,
   "id": "55b733a8-4ccd-4deb-ae0d-6cda39666f79",
   "metadata": {
    "tags": []
   },
   "outputs": [],
   "source": [
    "def r(X,Y):\n",
    "    n = len(X)\n",
    "    xmoy, ymoy = sum(X)/n, sum(Y)/n\n",
    "    sum1 = sum([(X[i]-xmoy)*(Y[i]-ymoy) for i in range(n)])\n",
    "    sum2 = sum([(x-xmoy)**2 for x in X])\n",
    "    sum3 = sum([(y-ymoy)**2 for y in Y])\n",
    "    return sum1/(sum2*sum3)**0.5\n",
    "\n",
    "def normalize(tab):\n",
    "    new_tab = tab.copy()\n",
    "    maxi,mini = max(tab), min(tab)\n",
    "    s = sum(tab)\n",
    "    for i in range(len(tab)):\n",
    "        new_tab[i] = (tab[i] - mini)/(maxi - mini)\n",
    "    s = sum(new_tab)\n",
    "    return [t*100/s for t in new_tab]\n",
    "\n",
    "def estimateKey_major(count, with_score = False):\n",
    "    rmax, pitchClass = 0, 0\n",
    "    liste_r = []\n",
    "    for i in range(12):\n",
    "        Yi = count[i:]+count[:i]\n",
    "        liste_r.append(r(ratings_major,Yi))\n",
    "        if r(ratings_major,Yi)>rmax:\n",
    "            rmax = r(ratings_major,Yi)\n",
    "            pitchClass = i\n",
    "    if with_score:\n",
    "        return pitchClass, rmax\n",
    "    else:\n",
    "        return pitchClass\n",
    "    \n",
    "def estimateKey_minor(count, with_score = False):\n",
    "    rmax, pitchClass = 0, 0\n",
    "    liste_r = []\n",
    "    for i in range(12):\n",
    "        Yi = count[i:]+count[:i]\n",
    "        liste_r.append(r(ratings_minor,Yi))\n",
    "        if r(ratings_minor,Yi)>rmax:\n",
    "            rmax = r(ratings_minor,Yi)\n",
    "            pitchClass = i\n",
    "    if with_score:\n",
    "        return pitchClass, rmax\n",
    "    else:\n",
    "        return pitchClass\n",
    "    \n",
    "def estimateKey(count):\n",
    "    major_key, major_score = estimateKey_major(count, with_score = True)\n",
    "    minor_key, minor_score = estimateKey_major(count, with_score = True)\n",
    "    if major_score > minor_score:\n",
    "        return major_key, 1\n",
    "    else:\n",
    "        return minor_key, -1\n",
    "    "
   ]
  },
  {
   "cell_type": "markdown",
   "id": "45064413-859f-4a0a-83d9-56f66645a199",
   "metadata": {},
   "source": [
    "If I transpose by n semitones, the algorithm will return a key increased by n%12.\n",
    "\n",
    "This can be seen in the function with Yi = count[i:]+count[:i].\n",
    "\n",
    "When transposing, all indices will then be shifted by n semitones, so we will have Yi = count[i:]+count[:i] with an i shifted by n. Therefore, the algorithm will return a pitchClass shifted by n."
   ]
  },
  {
   "cell_type": "markdown",
   "id": "8c08d520",
   "metadata": {},
   "source": [
    "## Tests"
   ]
  },
  {
   "cell_type": "markdown",
   "id": "c9bd3281",
   "metadata": {},
   "source": [
    "Execute every test to have info on your generations ! Be sure to execute cells above before !"
   ]
  },
  {
   "cell_type": "code",
   "execution_count": 6,
   "id": "73fff4d2-3f77-4625-ab1c-d1c95273661f",
   "metadata": {
    "tags": []
   },
   "outputs": [],
   "source": [
    "midi_input = pretty_midi.PrettyMIDI(path_to_input) #Generates MIDI from files\n",
    "midi_output = pretty_midi.PrettyMIDI(path_to_output) #Generates MIDI from files"
   ]
  },
  {
   "cell_type": "markdown",
   "id": "78eb5c9e",
   "metadata": {},
   "source": [
    "#### Duration of each pitch in Input"
   ]
  },
  {
   "cell_type": "code",
   "execution_count": 7,
   "id": "08938afd-8330-4407-95be-6f82163dae14",
   "metadata": {
    "tags": []
   },
   "outputs": [
    {
     "data": {
      "text/plain": [
       "array([0.04166667, 0.        , 0.33333333, 0.        , 0.        ,\n",
       "       0.        , 0.08333333, 0.29166667, 0.        , 0.08333333,\n",
       "       0.16666667, 0.        ])"
      ]
     },
     "execution_count": 7,
     "metadata": {},
     "output_type": "execute_result"
    }
   ],
   "source": [
    "midi_input.get_pitch_class_histogram()"
   ]
  },
  {
   "cell_type": "code",
   "execution_count": 8,
   "id": "56f06c4a-9881-4e86-b1a9-f6047c59bbf4",
   "metadata": {
    "tags": []
   },
   "outputs": [
    {
     "data": {
      "image/png": "[encoded data removed]",
      "text/plain": [
       "<Figure size 640x480 with 1 Axes>"
      ]
     },
     "metadata": {},
     "output_type": "display_data"
    }
   ],
   "source": [
    "ratings_input = midi_input.get_pitch_class_histogram()\n",
    "\n",
    "plt.bar(range(12), ratings_input)\n",
    "plt.xticks([0, 2, 4, 5, 7, 9, 11])\n",
    "plt.gca().set_xticklabels([\"C\", \"D\", \"E\", \"F\", \"G\", \"A\", \"B\"])\n",
    "plt.ylim(0, 1)\n",
    "plt.title(\"Duration of each pitch in Input\")\n",
    "plt.show()"
   ]
  },
  {
   "cell_type": "markdown",
   "id": "9d2c01f4",
   "metadata": {},
   "source": [
    "#### Duration of each pitch in Ouptut"
   ]
  },
  {
   "cell_type": "code",
   "execution_count": 9,
   "id": "2edb30af",
   "metadata": {
    "tags": []
   },
   "outputs": [
    {
     "data": {
      "text/plain": [
       "array([0.01282051, 0.        , 0.47435897, 0.        , 0.        ,\n",
       "       0.        , 0.16666667, 0.02564103, 0.        , 0.25641026,\n",
       "       0.06410256, 0.        ])"
      ]
     },
     "execution_count": 9,
     "metadata": {},
     "output_type": "execute_result"
    }
   ],
   "source": [
    "midi_output.get_pitch_class_histogram()"
   ]
  },
  {
   "cell_type": "code",
   "execution_count": 10,
   "id": "7f2928ae",
   "metadata": {
    "tags": []
   },
   "outputs": [
    {
     "data": {
      "image/png": "[encoded data removed]",
      "text/plain": [
       "<Figure size 640x480 with 1 Axes>"
      ]
     },
     "metadata": {},
     "output_type": "display_data"
    }
   ],
   "source": [
    "ratings_output = midi_output.get_pitch_class_histogram()\n",
    "\n",
    "plt.bar(range(12), ratings_output)\n",
    "plt.xticks([0, 2, 4, 5, 7, 9, 11])\n",
    "plt.gca().set_xticklabels([\"C\", \"D\", \"E\", \"F\", \"G\", \"A\", \"B\"])\n",
    "plt.ylim(0, 1)\n",
    "plt.title(\"Duration of each pitch in Input\")\n",
    "plt.show()"
   ]
  },
  {
   "cell_type": "markdown",
   "id": "b8c94a03",
   "metadata": {},
   "source": [
    "#### Tempo of Input and Output"
   ]
  },
  {
   "cell_type": "code",
   "execution_count": 11,
   "id": "13859220-214a-4391-8db7-52d65581f101",
   "metadata": {
    "tags": []
   },
   "outputs": [
    {
     "data": {
      "text/plain": [
       "218.18181818181816"
      ]
     },
     "execution_count": 11,
     "metadata": {},
     "output_type": "execute_result"
    }
   ],
   "source": [
    "midi_input.estimate_tempo()"
   ]
  },
  {
   "cell_type": "code",
   "execution_count": 12,
   "id": "56561259",
   "metadata": {
    "tags": []
   },
   "outputs": [
    {
     "data": {
      "text/plain": [
       "224.6808510638298"
      ]
     },
     "execution_count": 12,
     "metadata": {},
     "output_type": "execute_result"
    }
   ],
   "source": [
    "midi_output.estimate_tempo()"
   ]
  },
  {
   "cell_type": "markdown",
   "id": "a2c6b9ee",
   "metadata": {},
   "source": [
    "#### Key of Input"
   ]
  },
  {
   "cell_type": "code",
   "execution_count": 13,
   "id": "dffe2f53-456c-4aff-ba8c-3027cc635048",
   "metadata": {
    "tags": []
   },
   "outputs": [
    {
     "name": "stdout",
     "output_type": "stream",
     "text": [
      "7 G 0.687047379223086\n"
     ]
    }
   ],
   "source": [
    "pitch, score = estimateKey_major(list(ratings_input), with_score = True)\n",
    "int_to_key = [\"C\", 'D-', \"D\", 'E-', \"E\", \"F\", 'G-', \"G\", 'A-', \"A\", 'B-', \"B\"]\n",
    "print(pitch, int_to_key[pitch], score)"
   ]
  },
  {
   "cell_type": "code",
   "execution_count": 14,
   "id": "a7127f83-17b4-423f-b728-5f431a664a10",
   "metadata": {
    "tags": []
   },
   "outputs": [
    {
     "name": "stdout",
     "output_type": "stream",
     "text": [
      "7 G 0.8357102097854934\n"
     ]
    }
   ],
   "source": [
    "pitch, score = estimateKey_minor(list(ratings_input), with_score = True)\n",
    "print(pitch, int_to_key[pitch], score)"
   ]
  },
  {
   "cell_type": "code",
   "execution_count": 15,
   "id": "2a4706b8-4896-45cc-a329-dde5f374662e",
   "metadata": {
    "tags": []
   },
   "outputs": [
    {
     "name": "stdout",
     "output_type": "stream",
     "text": [
      "G -1\n"
     ]
    }
   ],
   "source": [
    "pitch, gamme = estimateKey(list(ratings_input))\n",
    "print(int_to_key[pitch], gamme)"
   ]
  },
  {
   "cell_type": "markdown",
   "id": "c1969c17",
   "metadata": {},
   "source": [
    "#### Key of Output"
   ]
  },
  {
   "cell_type": "code",
   "execution_count": 16,
   "id": "2542f6f8",
   "metadata": {
    "tags": []
   },
   "outputs": [
    {
     "name": "stdout",
     "output_type": "stream",
     "text": [
      "2 D 0.8757836227297496\n"
     ]
    }
   ],
   "source": [
    "pitch, score = estimateKey_major(list(ratings_output), with_score = True)\n",
    "int_to_key = [\"C\", 'D-', \"D\", 'E-', \"E\", \"F\", 'G-', \"G\", 'A-', \"A\", 'B-', \"B\"]\n",
    "print(pitch, int_to_key[pitch], score)"
   ]
  },
  {
   "cell_type": "code",
   "execution_count": 17,
   "id": "56366151",
   "metadata": {
    "tags": []
   },
   "outputs": [
    {
     "name": "stdout",
     "output_type": "stream",
     "text": [
      "2 D 0.6800347960784932\n"
     ]
    }
   ],
   "source": [
    "pitch, score = estimateKey_minor(list(ratings_output), with_score = True)\n",
    "print(pitch, int_to_key[pitch], score)"
   ]
  },
  {
   "cell_type": "code",
   "execution_count": 18,
   "id": "7ed3d623",
   "metadata": {
    "tags": []
   },
   "outputs": [
    {
     "name": "stdout",
     "output_type": "stream",
     "text": [
      "D -1\n"
     ]
    }
   ],
   "source": [
    "pitch, gamme = estimateKey(list(ratings_output))\n",
    "print(int_to_key[pitch], gamme)"
   ]
  },
  {
   "cell_type": "markdown",
   "id": "0e787f6c-04af-4edf-a0fb-001e799b9d68",
   "metadata": {
    "tags": []
   },
   "source": [
    "## Tests on several outputs"
   ]
  },
  {
   "cell_type": "markdown",
   "id": "46d2f9f1",
   "metadata": {},
   "source": [
    "For this test, you have to give the path to a folder with all your generations in the following form :\n",
    "For a generation i :\n",
    "- Input files : inputi.mid (id i==1, input1.mid)\n",
    "- Output files : outputi.mid (if i==1, output1.mid)"
   ]
  },
  {
   "cell_type": "code",
   "execution_count": 26,
   "id": "213b49a9-30e1-4096-8444-c924bf9ae4c5",
   "metadata": {
    "tags": []
   },
   "outputs": [],
   "source": [
    "path_to_folder = 'C:/users/micha/Desktop/tests'"
   ]
  },
  {
   "cell_type": "code",
   "execution_count": 34,
   "id": "a39a05d3-1610-4f22-9697-3cd8730ed073",
   "metadata": {
    "tags": []
   },
   "outputs": [
    {
     "name": "stdout",
     "output_type": "stream",
     "text": [
      "1\n"
     ]
    }
   ],
   "source": [
    "nbr_input = 0\n",
    "for elem in os.listdir(path_to_folder):\n",
    "    if os.path.isfile(path_to_folder+'/'+elem):\n",
    "        nbr_input+=1\n",
    "nbr_input = int(nbr_input/2)\n",
    "print(nbr_input)"
   ]
  },
  {
   "cell_type": "markdown",
   "id": "cf23c567-1428-4cb9-8b58-cd67609a19b7",
   "metadata": {
    "tags": []
   },
   "source": [
    "#### Test sur la tonalité"
   ]
  },
  {
   "cell_type": "code",
   "execution_count": 39,
   "id": "0eb63967-cd71-47d8-9780-74b91d7fc72c",
   "metadata": {
    "tags": []
   },
   "outputs": [
    {
     "name": "stdout",
     "output_type": "stream",
     "text": [
      "Le pourcentage de générations ayant eu même la tonalité que l'input est 0.0%\n"
     ]
    }
   ],
   "source": [
    "nb_tot = 0\n",
    "nb_same_tonality = 0\n",
    "\n",
    "for i in range(1,nbr_input+1):\n",
    "    if os.path.exists(path_to_folder+'/input'+str(i)+'.mid') and os.path.exists(path_to_folder+'/output'+str(i)+'.mid'):\n",
    "        nb_tot += 1\n",
    "        #Generates MIDI from files\n",
    "        midi_input = pretty_midi.PrettyMIDI(path_to_folder+'/input'+str(i)+'.mid')\n",
    "        midi_output = pretty_midi.PrettyMIDI(path_to_folder+'/output'+str(i)+'.mid')\n",
    "        \n",
    "        ratings_input = midi_input.get_pitch_class_histogram()\n",
    "        ratings_output = midi_output.get_pitch_class_histogram()\n",
    "        \n",
    "        pitch_input, gamme_input = estimateKey(list(ratings_input))\n",
    "        pitch_output, gamme_output = estimateKey(list(ratings_output))\n",
    "        \n",
    "        if (pitch_input == pitch_output) and (gamme_input == gamme_output):\n",
    "            nb_same_tonality +=1\n",
    "            \n",
    "print(f\"Le pourcentage de générations ayant eu même la tonalité que l'input est {round(nb_same_tonality/nb_tot,2)}%\")     "
   ]
  },
  {
   "cell_type": "markdown",
   "id": "3438ca19-13b0-4d31-bdb1-11338a4f825a",
   "metadata": {
    "tags": []
   },
   "source": [
    "#### Test sur la tempo"
   ]
  },
  {
   "cell_type": "code",
   "execution_count": 42,
   "id": "8f2b45a6-36ed-4ef6-b403-b2867d866a87",
   "metadata": {
    "tags": []
   },
   "outputs": [
    {
     "name": "stderr",
     "output_type": "stream",
     "text": [
      "C:\\Users\\micha\\anaconda3\\Lib\\site-packages\\seaborn\\_oldcore.py:1119: FutureWarning: use_inf_as_na option is deprecated and will be removed in a future version. Convert inf values to NaN before operating instead.\n",
      "  with pd.option_context('mode.use_inf_as_na', True):\n",
      "C:\\Users\\micha\\AppData\\Local\\Temp\\ipykernel_26736\\4197303474.py:17: UserWarning: Dataset has 0 variance; skipping density estimate. Pass `warn_singular=False` to disable this warning.\n",
      "  sns.kdeplot(taux_erreur, color='black', linestyle='-', linewidth=2)  # Courbe de densité de probabilité\n"
     ]
    },
    {
     "data": {
      "image/png": "[encoded data removed]",
      "text/plain": [
       "<Figure size 640x480 with 1 Axes>"
      ]
     },
     "metadata": {},
     "output_type": "display_data"
    }
   ],
   "source": [
    "taux_erreur = []\n",
    "\n",
    "for i in range(1,nbr_input+1):\n",
    "    if os.path.exists(path_to_folder+'/input'+str(i)+'.mid') and os.path.exists(path_to_folder+'/output'+str(i)+'.mid'):\n",
    "        #Generates MIDI from files\n",
    "        midi_input = pretty_midi.PrettyMIDI(path_to_folder+'/input'+str(i)+'.mid')\n",
    "        midi_output = pretty_midi.PrettyMIDI(path_to_folder+'/output'+str(i)+'.mid')\n",
    "        \n",
    "        predicted_tempo_input = midi_input.estimate_tempo()\n",
    "        predicted_tempo_output = midi_output.estimate_tempo()\n",
    "        \n",
    "        erreur = 100*(predicted_tempo_output - predicted_tempo_input)/predicted_tempo_output\n",
    "        \n",
    "        taux_erreur.append(erreur)\n",
    "            \n",
    "plt.hist(taux_erreur, bins=10, density=True, alpha=0.5, color='skyblue', edgecolor='black')  # Histogramme\n",
    "sns.kdeplot(taux_erreur, color='black', linestyle='-', linewidth=2)  # Courbe de densité de probabilité\n",
    "plt.title('Distribution des erreurs sur le tempo')\n",
    "plt.xlabel('Erreur (en %)')\n",
    "plt.ylabel('Densité de probabilité')\n",
    "plt.grid(True)\n",
    "plt.show()"
   ]
  }
 ],
 "metadata": {
  "kernelspec": {
   "display_name": "Python 3 (ipykernel)",
   "language": "python",
   "name": "python3"
  },
  "language_info": {
   "codemirror_mode": {
    "name": "ipython",
    "version": 3
   },
   "file_extension": ".py",
   "mimetype": "text/x-python",
   "name": "python",
   "nbconvert_exporter": "python",
   "pygments_lexer": "ipython3",
   "version": "3.11.7"
  }
 },
 "nbformat": 4,
 "nbformat_minor": 5
}
